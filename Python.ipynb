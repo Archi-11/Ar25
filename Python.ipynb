{
  "nbformat": 4,
  "nbformat_minor": 0,
  "metadata": {
    "colab": {
      "provenance": [],
      "authorship_tag": "ABX9TyN/YAxCVA7G4uC6pJcBD85G",
      "include_colab_link": true
    },
    "kernelspec": {
      "name": "python3",
      "display_name": "Python 3"
    },
    "language_info": {
      "name": "python"
    }
  },
  "cells": [
    {
      "cell_type": "markdown",
      "metadata": {
        "id": "view-in-github",
        "colab_type": "text"
      },
      "source": [
        "<a href=\"https://colab.research.google.com/github/Archi-11/Ar25/blob/main/Python.ipynb\" target=\"_parent\"><img src=\"https://colab.research.google.com/assets/colab-badge.svg\" alt=\"Open In Colab\"/></a>"
      ]
    },
    {
      "cell_type": "code",
      "execution_count": null,
      "metadata": {
        "id": "tlML5i6Lblx8"
      },
      "outputs": [],
      "source": [
        "S1=int(input(\"Enter S1\"))\n",
        "S2=int(input(\"Enter S2\"))\n",
        "S3=int(input(\"Enter S3\"))\n",
        "S4=int(input(\"Enter S4\"))\n",
        "S5=int(input(\"Enter S5\"))\n",
        "per=(S1+S2+S3+S4+S5)/5\n",
        "print(per,\"%\")"
      ]
    },
    {
      "cell_type": "code",
      "source": [
        "S1=int(input(\"Enter S1\"))\n",
        "S2=int(input(\"Enter S2\"))\n",
        "S3=int(input(\"Enter S3\"))\n",
        "S4=int(input(\"Enter S4\"))\n",
        "S5=int(input(\"Enter S5\"))\n",
        "per=(S1+S2+S3+S4+S5)/5\n",
        "print(per,\"%\")\n",
        "if(per<35):\n",
        "   print(\"Fail\")\n",
        "elif(per<40):\n",
        "   print(\"pass class\")\n",
        "elif(per<60):\n",
        "   print(\"second class\")\n",
        "elif(per<75):\n",
        "   print(\"first class\")\n",
        "elif(per>101):\n",
        "   print(\"Not applicable\")\n",
        "else:\n",
        "   print(\"distinction\")"
      ],
      "metadata": {
        "id": "ICzqVQLZcC80"
      },
      "execution_count": null,
      "outputs": []
    },
    {
      "cell_type": "code",
      "source": [
        "age = int(input(\"Enter your age\"))\n",
        "if 16 >= age < 18:\n",
        "   print(\"Eligible for part-time jobs\")\n",
        "elif 18 >= age <= 65:\n",
        "   print(\"Eligible for full-time jobs\")\n",
        "else:\n",
        "   print(\"Not Eligible for any job yet\")"
      ],
      "metadata": {
        "id": "nO_SEAu2cH-j"
      },
      "execution_count": null,
      "outputs": []
    },
    {
      "cell_type": "code",
      "source": [
        "a=input(\"enter your choice,whether you want breakfast,lunch or dinner=\")\n",
        "if a==\"breakfast\":\n",
        " choice=input(\"enter your choice,whether you want western dish or north-indian dish=\")\n",
        " if choice==\"western\":\n",
        "    wd=input(\"you have 2 choice for western-pancakes or sandwich..enter your choice=\")\n",
        "    if wd==\"pancakes\":\n",
        "        print(\"you have ordered pancakes for breakfast\")\n",
        "    elif wd==\"sandwich\":\n",
        "        print(\"you have ordered sandwich for breakfast\")\n",
        "    else:\n",
        "        print(\"no other dish available\")\n",
        " if choice==\"north-indian\":\n",
        "     ni=input(\"you have 2 choice for north-indian dish-poha or upma...enter your choice=\")\n",
        "     if ni==\"poha\":\n",
        "         print(\"you have ordered poha for breakfast\")\n",
        "     elif ni==\"upma\":\n",
        "         print(\"you have ordered poha for breakfast\")\n",
        "     else:\n",
        "         print('no other dish available')\n",
        "if a==\"lunch\":\n",
        "    choice=input(\"enter your choice whether you want south-indian dish or north-indian dish=\")\n",
        "    if choice==\"south-indian\":\n",
        "        si=input(\"you have 2 choice for south-indian dish-mango rasam or banana leaf plate..enter your choice= \")\n",
        "        if si==\"mango rasam\":\n",
        "            print(\"you have ordered mango rasam for lunch\")\n",
        "        elif si==\"banana leaf plate\":\n",
        "            print(\"you have ordered banana leaf plate for lunch\")\n",
        "        else:\n",
        "            print(\"no other dish available for now\")\n",
        "    if choice==\"north-indian\":\n",
        "        ni=input(\"you have 2 choice for north-indian dish-rajma rice or dal rice...enter your choice=\")\n",
        "        if ni==\"rajma rice\":\n",
        "            print(\"you have ordered rajma rice\")\n",
        "        elif ni==\"dal rice\":\n",
        "            print(\"you have ordered dal rice\")\n",
        "        else:\n",
        "            print(\"no other food available for now\")\n",
        "if a==\"dinner\":\n",
        "    choice=input(\"enter your choice whether you want south-indian dish or north-indian dish=\")\n",
        "    if choice==\"south-indian\":\n",
        "        si=input(\"you have 2 choice for south-indian dish-korri gassi or bisi bele bhaat...enter your choice= \")\n",
        "        if si==\"korri gassi\":\n",
        "            print(\"you have ordered\")\n",
        "        elif si==\"gassi bisi bele\":\n",
        "            print(\"you have ordered gassi bisi bele\")\n",
        "        else:\n",
        "            print(\"no other food available for now\")\n",
        "    if choice==\"north-indian\":\n",
        "        ni=input(\"you have 2 choice for north-indian dish-kadai paneer with naan or paneer tikka with pulaav...enter your choice=\")\n",
        "        if ni==\"kadai paneer with naan\":\n",
        "            print(\"you have ordered kadai paneer with naan\")\n",
        "        elif ni==\"paneer tikka with pulaav\":\n",
        "            print(\"you have ordered paneer tikka with pulaav\")\n",
        "        else:\n",
        "            print(\"no other food available for now\")"
      ],
      "metadata": {
        "id": "vvLsVnNLcQju"
      },
      "execution_count": null,
      "outputs": []
    },
    {
      "cell_type": "code",
      "source": [
        "for i in range(0,101,5):\n",
        "      print(i);"
      ],
      "metadata": {
        "id": "CDKEuZB2cSo2"
      },
      "execution_count": null,
      "outputs": []
    },
    {
      "cell_type": "code",
      "source": [
        "a=int(input(\"Enter number\"))\n",
        "for i in range(1,11):\n",
        "    print(a,\"X\",i,\"=\",a*i)"
      ],
      "metadata": {
        "id": "2ZFWZopUcVsz"
      },
      "execution_count": null,
      "outputs": []
    },
    {
      "cell_type": "code",
      "source": [
        "a=int(input(\"Enter number\"))\n",
        "if(a>=10):\n",
        "  print(\"Invalid\")\n",
        "else:\n",
        "  while i in range(1,11):\n",
        "    print(a,\"X\",i,\"=\",a*i)\n",
        "    i=i+1"
      ],
      "metadata": {
        "id": "i1H9NltOcYpj"
      },
      "execution_count": null,
      "outputs": []
    }
  ]
}