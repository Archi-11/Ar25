{
  "nbformat": 4,
  "nbformat_minor": 0,
  "metadata": {
    "colab": {
      "provenance": [],
      "authorship_tag": "ABX9TyN5c0mEJoppBcdTl09JPiDJ",
      "include_colab_link": true
    },
    "kernelspec": {
      "name": "python3",
      "display_name": "Python 3"
    },
    "language_info": {
      "name": "python"
    }
  },
  "cells": [
    {
      "cell_type": "markdown",
      "metadata": {
        "id": "view-in-github",
        "colab_type": "text"
      },
      "source": [
        "<a href=\"https://colab.research.google.com/github/Archi-11/Ar25/blob/main/Untitled3.ipynb\" target=\"_parent\"><img src=\"https://colab.research.google.com/assets/colab-badge.svg\" alt=\"Open In Colab\"/></a>"
      ]
    },
    {
      "cell_type": "code",
      "execution_count": null,
      "metadata": {
        "id": "NSGiQ_8huhKN"
      },
      "outputs": [],
      "source": [
        "a='10'\n",
        "int(a)"
      ]
    },
    {
      "cell_type": "code",
      "source": [
        "\n",
        "a=10\n",
        "b=2.50\n",
        "c=a+b\n",
        "print(c)\n",
        "type(c)"
      ],
      "metadata": {
        "id": "wl2w_QhCu2Px"
      },
      "execution_count": null,
      "outputs": []
    },
    {
      "cell_type": "code",
      "source": [
        "\n",
        "a=10.50\n",
        "b=int(a)\n",
        "print(b)"
      ],
      "metadata": {
        "id": "cujby7Fru57I"
      },
      "execution_count": null,
      "outputs": []
    },
    {
      "cell_type": "code",
      "source": [
        "\n",
        "a='10'\n",
        "b=20\n",
        "c=a,b\n",
        "print(c)"
      ],
      "metadata": {
        "id": "k8ft2gIiu-TE"
      },
      "execution_count": null,
      "outputs": []
    },
    {
      "cell_type": "code",
      "source": [
        "\n",
        "a=10\n",
        "b=3\n",
        "c=a%b\n",
        "print(c)"
      ],
      "metadata": {
        "id": "B_H6n_K1vBDy"
      },
      "execution_count": null,
      "outputs": []
    },
    {
      "cell_type": "code",
      "source": [
        "10'!=10"
      ],
      "metadata": {
        "id": "bflnRi9JvD3W"
      },
      "execution_count": null,
      "outputs": []
    },
    {
      "cell_type": "code",
      "source": [
        "\n",
        "l1=[\"archi\",10,20.50,\"test\"]\n",
        "print(l1[0][0::2])\n",
        "print(l1[::-1])\n",
        "print(l1[-1][::-1])\n",
        "if(\"archi\" in l1):\n",
        "   print(\"yes\")\n",
        "l1[1]=\"hello\"\n",
        "print (l1)\n",
        "name=input(\"enter name\")\n",
        "l1[-1]=name"
      ],
      "metadata": {
        "id": "clXnrsNovGL1"
      },
      "execution_count": null,
      "outputs": []
    },
    {
      "cell_type": "code",
      "source": [
        "a=int(input(\"Enter no\"))\n",
        "i=0\n",
        "while i in range(0,11):\n",
        "    print(a,\"X\",i,\"=\",a*i)\n",
        "    i=i+1"
      ],
      "metadata": {
        "id": "kWVAD1XivNx3"
      },
      "execution_count": null,
      "outputs": []
    },
    {
      "cell_type": "code",
      "source": [
        "\n",
        "a=int(input(\"num\"))\n",
        "for i in range (1,11):\n",
        "if a<=10:\n",
        "  print(a,\"x\",i,\"=\",a*i)\n",
        "else:\n",
        "  print(\"re enter no\")"
      ],
      "metadata": {
        "id": "ACtqQMvXvRNt"
      },
      "execution_count": null,
      "outputs": []
    },
    {
      "cell_type": "code",
      "source": [
        "a=int(input(\"Enter number\"))\n",
        "if(a>=10):\n",
        "   print(\"Invalid\")\n",
        "else:\n",
        "    while i in range(1,11):\n",
        "       print(a,\"X\",i,\"=\",a*i)\n",
        "       i=i+1"
      ],
      "metadata": {
        "id": "c_8eyws3vURD"
      },
      "execution_count": null,
      "outputs": []
    },
    {
      "cell_type": "code",
      "source": [
        "p=1\n",
        "while p<10:\n",
        "   q=1\n",
        "   while q<=p:\n",
        "        print(p,end=\" \")\n",
        "        q+=1\n",
        "   p+=1\n",
        "   print(\" \")"
      ],
      "metadata": {
        "id": "B5AtReg7vYRv"
      },
      "execution_count": null,
      "outputs": []
    },
    {
      "cell_type": "code",
      "source": [
        "for num in range(10):\n",
        "  if num>5:\n",
        "     print(\"stop processing\")\n",
        "     break\n",
        "  print(num)"
      ],
      "metadata": {
        "id": "NifdT8mqvbaJ"
      },
      "execution_count": null,
      "outputs": []
    },
    {
      "cell_type": "code",
      "source": [
        "for num in range(11):\n",
        "  if num%2!=0:\n",
        "     print(\"skip\")\n",
        "     continue\n",
        "  print(num)"
      ],
      "metadata": {
        "id": "_AOZGdz8vh1u"
      },
      "execution_count": null,
      "outputs": []
    },
    {
      "cell_type": "code",
      "source": [
        "\n",
        "course=input(\"Enter your course\")\n",
        "if course==\"BSCIT\":\n",
        "   percentage=(input(\"Enter your percentage\"))\n",
        "   sub=input(\"Enter your sub\")\n",
        "   if sub==\"maths\":\n",
        "      print(\"sucess\")\n",
        "   else:\n",
        "     print(\"not success\")\n",
        "else:\n",
        "     print(\"not eligible\")"
      ],
      "metadata": {
        "id": "q4aSLOqkvll6"
      },
      "execution_count": null,
      "outputs": []
    },
    {
      "cell_type": "code",
      "source": [
        "\n",
        "def Test():\n",
        "    print (\"this is first function\")\n",
        "Test()"
      ],
      "metadata": {
        "id": "vnG0D1aBvphn"
      },
      "execution_count": null,
      "outputs": []
    },
    {
      "cell_type": "code",
      "source": [
        "\n",
        "def add(a,b):\n",
        "    print(a+b)\n",
        "add(10,20)"
      ],
      "metadata": {
        "id": "eheoj6LDvsMT"
      },
      "execution_count": null,
      "outputs": []
    },
    {
      "cell_type": "code",
      "source": [
        "a,b=10,20\n",
        "if(a>b):\n",
        "  print(\"T\")\n",
        "else:\n",
        "  print(bool(\"\"))"
      ],
      "metadata": {
        "id": "ftwcUkHCv_UO"
      },
      "execution_count": null,
      "outputs": []
    },
    {
      "cell_type": "code",
      "source": [
        "def test() :\n",
        " i=1\n",
        "while (i>=1) :\n",
        "   print(i)\n",
        "   i=i+1"
      ],
      "metadata": {
        "id": "sFms2vz4wAdu"
      },
      "execution_count": null,
      "outputs": []
    },
    {
      "cell_type": "code",
      "source": [
        "def print_string(L1):\n",
        "    for i in L1:\n",
        "        print(\"*\"*i)"
      ],
      "metadata": {
        "id": "FVYFxp2dwDh0"
      },
      "execution_count": null,
      "outputs": []
    },
    {
      "cell_type": "code",
      "source": [
        "a=input(\"Enter first name\")\n",
        "b=input(\"Enter middle name\")\n",
        "c=input(\"Enter last name\")\n",
        "fullname=\" \".join([a,b,c])\n",
        "print(fullname)\n",
        "email=input(\"Enter email\")\n",
        "if email.endswith(\"\"\"com,org,edu,in\"\"\"):\n",
        "   print(\"Valid\")\n",
        "else:\n",
        "   print(\"Invalid\")"
      ],
      "metadata": {
        "id": "C_BhwrD_wGJa"
      },
      "execution_count": null,
      "outputs": []
    },
    {
      "cell_type": "code",
      "source": [
        "\n",
        "def print_num(a):\n",
        "    for num in range(a):\n",
        "        print(num)\n",
        "print_num(10)"
      ],
      "metadata": {
        "colab": {
          "base_uri": "https://localhost:8080/"
        },
        "id": "dIREevP5vvjK",
        "outputId": "ae4e63be-994a-468c-c0ac-593d88047f10"
      },
      "execution_count": null,
      "outputs": [
        {
          "output_type": "stream",
          "name": "stdout",
          "text": [
            "0\n",
            "1\n",
            "2\n",
            "3\n",
            "4\n",
            "5\n",
            "6\n",
            "7\n",
            "8\n",
            "9\n"
          ]
        }
      ]
    },
    {
      "cell_type": "code",
      "source": [
        "\n",
        "def admission_process():\n",
        " course=input(\"Enter your course\")\n",
        "if course==\"BSCIT\":\n",
        "   percentage=(input(\"Enter your percentage\"))\n",
        "   sub=input(\"Enter your sub\")\n",
        "   if sub==\"maths\":\n",
        "      print(\"sucess\")\n",
        "   else:\n",
        "     print(\"not success\")\n",
        "else:\n",
        "     print(\"not eligible\")\n",
        "admission_process()"
      ],
      "metadata": {
        "id": "vPIyTz23v0q0"
      },
      "execution_count": null,
      "outputs": []
    }
  ]
}